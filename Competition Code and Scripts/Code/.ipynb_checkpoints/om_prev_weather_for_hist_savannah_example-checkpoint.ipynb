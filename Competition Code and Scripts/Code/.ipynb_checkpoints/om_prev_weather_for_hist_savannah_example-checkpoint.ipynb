{
 "cells": [
  {
   "cell_type": "markdown",
   "id": "52e6d99f32e02995",
   "metadata": {},
   "source": [
    "Install"
   ]
  },
  {
   "cell_type": "code",
   "execution_count": null,
   "id": "initial_id",
   "metadata": {
    "collapsed": true
   },
   "outputs": [],
   "source": [
    "%pip install openmeteo-requests\n",
    "%pip install requests-cache retry-requests numpy pandas"
   ]
  },
  {
   "cell_type": "markdown",
   "id": "8b138439095632a0",
   "metadata": {},
   "source": [
    "Usage"
   ]
  },
  {
   "cell_type": "code",
   "execution_count": 4,
   "id": "db7d2f29733ae28b",
   "metadata": {},
   "outputs": [
    {
     "ename": "ModuleNotFoundError",
     "evalue": "No module named 'openmeteo_requests'",
     "output_type": "error",
     "traceback": [
      "\u001b[1;31m---------------------------------------------------------------------------\u001b[0m",
      "\u001b[1;31mModuleNotFoundError\u001b[0m                       Traceback (most recent call last)",
      "Cell \u001b[1;32mIn[4], line 1\u001b[0m\n\u001b[1;32m----> 1\u001b[0m \u001b[38;5;28;01mimport\u001b[39;00m \u001b[38;5;21;01mopenmeteo_requests\u001b[39;00m\n\u001b[0;32m      3\u001b[0m \u001b[38;5;28;01mimport\u001b[39;00m \u001b[38;5;21;01mrequests_cache\u001b[39;00m\n\u001b[0;32m      4\u001b[0m \u001b[38;5;28;01mimport\u001b[39;00m \u001b[38;5;21;01mpandas\u001b[39;00m \u001b[38;5;28;01mas\u001b[39;00m \u001b[38;5;21;01mpd\u001b[39;00m\n",
      "\u001b[1;31mModuleNotFoundError\u001b[0m: No module named 'openmeteo_requests'"
     ]
    }
   ],
   "source": [
    "import openmeteo_requests\n",
    "\n",
    "import requests_cache\n",
    "import pandas as pd\n",
    "from retry_requests import retry\n",
    "\n",
    "# Setup the Open-Meteo API client with cache and retry on error\n",
    "cache_session = requests_cache.CachedSession('.cache', expire_after = 3600)\n",
    "retry_session = retry(cache_session, retries = 5, backoff_factor = 0.2)\n",
    "openmeteo = openmeteo_requests.Client(session = retry_session)\n",
    "\n",
    "# Make sure all required weather variables are listed here\n",
    "# The order of variables in hourly or daily is important to assign them correctly below\n",
    "url = \"https://previous-runs-api.open-meteo.com/v1/forecast\"\n",
    "params = {\n",
    "\t\"latitude\": -1.483719,\n",
    "\t\"longitude\": 35.125857,\n",
    "\t\"hourly\": [\"temperature_2m\", \"temperature_2m_previous_day1\", \"temperature_2m_previous_day2\", \"temperature_2m_previous_day3\", \"temperature_2m_previous_day4\", \"temperature_2m_previous_day5\", \"temperature_2m_previous_day6\", \"temperature_2m_previous_day7\", \"relative_humidity_2m\", \"relative_humidity_2m_previous_day1\", \"relative_humidity_2m_previous_day2\", \"relative_humidity_2m_previous_day3\", \"relative_humidity_2m_previous_day4\", \"relative_humidity_2m_previous_day5\", \"relative_humidity_2m_previous_day6\", \"relative_humidity_2m_previous_day7\"],\n",
    "\t\"past_days\": 92,\n",
    "\t\"models\": \"best_match\"\n",
    "}\n",
    "responses = openmeteo.weather_api(url, params=params)\n",
    "\n",
    "# Process first location. Add a for-loop for multiple locations or weather models\n",
    "response = responses[0]\n",
    "print(f\"Coordinates {response.Latitude()}°N {response.Longitude()}°E\")\n",
    "print(f\"Elevation {response.Elevation()} m asl\")\n",
    "print(f\"Timezone {response.Timezone()} {response.TimezoneAbbreviation()}\")\n",
    "print(f\"Timezone difference to GMT+0 {response.UtcOffsetSeconds()} s\")\n",
    "\n",
    "# Process hourly data. The order of variables needs to be the same as requested.\n",
    "hourly = response.Hourly()\n",
    "hourly_temperature_2m = hourly.Variables(0).ValuesAsNumpy()\n",
    "hourly_temperature_2m_previous_day1 = hourly.Variables(1).ValuesAsNumpy()\n",
    "hourly_temperature_2m_previous_day2 = hourly.Variables(2).ValuesAsNumpy()\n",
    "hourly_temperature_2m_previous_day3 = hourly.Variables(3).ValuesAsNumpy()\n",
    "hourly_temperature_2m_previous_day4 = hourly.Variables(4).ValuesAsNumpy()\n",
    "hourly_temperature_2m_previous_day5 = hourly.Variables(5).ValuesAsNumpy()\n",
    "hourly_temperature_2m_previous_day6 = hourly.Variables(6).ValuesAsNumpy()\n",
    "hourly_temperature_2m_previous_day7 = hourly.Variables(7).ValuesAsNumpy()\n",
    "hourly_relative_humidity_2m = hourly.Variables(8).ValuesAsNumpy()\n",
    "hourly_relative_humidity_2m_previous_day1 = hourly.Variables(9).ValuesAsNumpy()\n",
    "hourly_relative_humidity_2m_previous_day2 = hourly.Variables(10).ValuesAsNumpy()\n",
    "hourly_relative_humidity_2m_previous_day3 = hourly.Variables(11).ValuesAsNumpy()\n",
    "hourly_relative_humidity_2m_previous_day4 = hourly.Variables(12).ValuesAsNumpy()\n",
    "hourly_relative_humidity_2m_previous_day5 = hourly.Variables(13).ValuesAsNumpy()\n",
    "hourly_relative_humidity_2m_previous_day6 = hourly.Variables(14).ValuesAsNumpy()\n",
    "hourly_relative_humidity_2m_previous_day7 = hourly.Variables(15).ValuesAsNumpy()\n",
    "\n",
    "hourly_data = {\"date\": pd.date_range(\n",
    "\tstart = pd.to_datetime(hourly.Time(), unit = \"s\", utc = True),\n",
    "\tend = pd.to_datetime(hourly.TimeEnd(), unit = \"s\", utc = True),\n",
    "\tfreq = pd.Timedelta(seconds = hourly.Interval()),\n",
    "\tinclusive = \"left\"\n",
    ")}\n",
    "hourly_data[\"temperature_2m\"] = hourly_temperature_2m\n",
    "hourly_data[\"temperature_2m_previous_day1\"] = hourly_temperature_2m_previous_day1\n",
    "hourly_data[\"temperature_2m_previous_day2\"] = hourly_temperature_2m_previous_day2\n",
    "hourly_data[\"temperature_2m_previous_day3\"] = hourly_temperature_2m_previous_day3\n",
    "hourly_data[\"temperature_2m_previous_day4\"] = hourly_temperature_2m_previous_day4\n",
    "hourly_data[\"temperature_2m_previous_day5\"] = hourly_temperature_2m_previous_day5\n",
    "hourly_data[\"temperature_2m_previous_day6\"] = hourly_temperature_2m_previous_day6\n",
    "hourly_data[\"temperature_2m_previous_day7\"] = hourly_temperature_2m_previous_day7\n",
    "hourly_data[\"relative_humidity_2m\"] = hourly_relative_humidity_2m\n",
    "hourly_data[\"relative_humidity_2m_previous_day1\"] = hourly_relative_humidity_2m_previous_day1\n",
    "hourly_data[\"relative_humidity_2m_previous_day2\"] = hourly_relative_humidity_2m_previous_day2\n",
    "hourly_data[\"relative_humidity_2m_previous_day3\"] = hourly_relative_humidity_2m_previous_day3\n",
    "hourly_data[\"relative_humidity_2m_previous_day4\"] = hourly_relative_humidity_2m_previous_day4\n",
    "hourly_data[\"relative_humidity_2m_previous_day5\"] = hourly_relative_humidity_2m_previous_day5\n",
    "hourly_data[\"relative_humidity_2m_previous_day6\"] = hourly_relative_humidity_2m_previous_day6\n",
    "hourly_data[\"relative_humidity_2m_previous_day7\"] = hourly_relative_humidity_2m_previous_day7\n",
    "\n",
    "hourly_dataframe = pd.DataFrame(data = hourly_data)\n",
    "print(hourly_dataframe)"
   ]
  }
 ],
 "metadata": {
  "kernelspec": {
   "display_name": "depth_tracking",
   "language": "python",
   "name": "python3"
  },
  "language_info": {
   "codemirror_mode": {
    "name": "ipython",
    "version": 3
   },
   "file_extension": ".py",
   "mimetype": "text/x-python",
   "name": "python",
   "nbconvert_exporter": "python",
   "pygments_lexer": "ipython3",
   "version": "3.12.6"
  }
 },
 "nbformat": 4,
 "nbformat_minor": 5
}
