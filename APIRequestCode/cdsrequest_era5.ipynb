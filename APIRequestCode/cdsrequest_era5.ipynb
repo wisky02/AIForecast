{
 "cells": [
  {
   "cell_type": "code",
   "execution_count": 1,
   "id": "8e5c27d9",
   "metadata": {},
   "outputs": [
    {
     "ename": "ModuleNotFoundError",
     "evalue": "No module named 'cdsapi'",
     "output_type": "error",
     "traceback": [
      "\u001b[0;31m---------------------------------------------------------------------------\u001b[0m",
      "\u001b[0;31mModuleNotFoundError\u001b[0m                       Traceback (most recent call last)",
      "\u001b[0;32m/tmp/ipykernel_265225/1343660865.py\u001b[0m in \u001b[0;36m<module>\u001b[0;34m\u001b[0m\n\u001b[0;32m----> 1\u001b[0;31m \u001b[0;32mimport\u001b[0m \u001b[0mcdsapi\u001b[0m\u001b[0;34m\u001b[0m\u001b[0;34m\u001b[0m\u001b[0m\n\u001b[0m\u001b[1;32m      2\u001b[0m \u001b[0;32mimport\u001b[0m \u001b[0mxarray\u001b[0m \u001b[0;32mas\u001b[0m \u001b[0mxr\u001b[0m\u001b[0;34m\u001b[0m\u001b[0;34m\u001b[0m\u001b[0m\n\u001b[1;32m      3\u001b[0m \u001b[0;32mimport\u001b[0m \u001b[0mpandas\u001b[0m \u001b[0;32mas\u001b[0m \u001b[0mpd\u001b[0m\u001b[0;34m\u001b[0m\u001b[0;34m\u001b[0m\u001b[0m\n\u001b[1;32m      4\u001b[0m \u001b[0;32mfrom\u001b[0m \u001b[0mdatetime\u001b[0m \u001b[0;32mimport\u001b[0m \u001b[0mdatetime\u001b[0m\u001b[0;34m,\u001b[0m \u001b[0mtimedelta\u001b[0m\u001b[0;34m\u001b[0m\u001b[0;34m\u001b[0m\u001b[0m\n\u001b[1;32m      5\u001b[0m \u001b[0;34m\u001b[0m\u001b[0m\n",
      "\u001b[0;31mModuleNotFoundError\u001b[0m: No module named 'cdsapi'"
     ]
    }
   ],
   "source": [
    "import cdsapi\n",
    "import xarray as xr\n",
    "import pandas as pd\n",
    "from datetime import datetime, timedelta\n",
    "\n",
    "\n",
    "latitude = -1.483719\n",
    "longitude = 35.125857\n",
    "\n",
    "\n",
    "c = cdsapi.Client()\n",
    "\n",
    "\n",
    "end_date = datetime.today()\n",
    "start_date = end_date - timedelta(days=365 * 10)\n",
    "\n",
    "\n",
    "start_date_str = start_date.strftime('%Y-%m-%d')\n",
    "end_date_str = end_date.strftime('%Y-%m-%d')\n",
    "\n",
    "\n",
    "c.retrieve(\n",
    "    'reanalysis-era5-land',\n",
    "    {\n",
    "        'product_type': 'reanalysis',\n",
    "        'format': 'netcdf',  # or 'grib'\n",
    "        'variable': [\n",
    "            '2m_temperature', 'total_precipitation', '10m_u_component_of_wind', \n",
    "            '10m_v_component_of_wind', 'surface_pressure', 'mean_sea_level_pressure',\n",
    "            \n",
    "        ],\n",
    "        'year': [str(year) for year in range(start_date.year, end_date.year + 1)],\n",
    "        'month': [f'{month:02d}' for month in range(1, 13)],\n",
    "        'day': [f'{day:02d}' for day in range(1, 32)],\n",
    "        'time': [\n",
    "            '00:00', '01:00', '02:00', '03:00', '04:00', '05:00', \n",
    "            '06:00', '07:00', '08:00', '09:00', '10:00', '11:00', \n",
    "            '12:00', '13:00', '14:00', '15:00', '16:00', '17:00', \n",
    "            '18:00', '19:00', '20:00', '21:00', '22:00', '23:00',\n",
    "        ],\n",
    "        'area': [latitude, longitude, latitude, longitude],  \n",
    "    },\n",
    "    'output.nc'  \n",
    ")\n",
    "\n",
    "\n",
    "ds = xr.open_dataset('out.nc')\n",
    "\n",
    "\n",
    "df = ds.to_dataframe().reset_index()\n",
    "\n",
    "# Save the DataFrame to CSV\n",
    "df.to_csv('era5_data.csv', index=False)\n",
    "\n",
    "\n"
   ]
  },
  {
   "cell_type": "code",
   "execution_count": null,
   "id": "d6ebaa0b",
   "metadata": {},
   "outputs": [],
   "source": []
  }
 ],
 "metadata": {
  "kernelspec": {
   "display_name": "BoDiff",
   "language": "python",
   "name": "python3"
  },
  "language_info": {
   "codemirror_mode": {
    "name": "ipython",
    "version": 3
   },
   "file_extension": ".py",
   "mimetype": "text/x-python",
   "name": "python",
   "nbconvert_exporter": "python",
   "pygments_lexer": "ipython3",
   "version": "3.7.12"
  }
 },
 "nbformat": 4,
 "nbformat_minor": 5
}
